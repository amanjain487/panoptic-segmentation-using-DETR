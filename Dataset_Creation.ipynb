{
  "nbformat": 4,
  "nbformat_minor": 0,
  "metadata": {
    "colab": {
      "name": "Dataset Creation",
      "provenance": [],
      "collapsed_sections": [],
      "authorship_tag": "ABX9TyMtkf0zOFlhSLBs9Mwc5kGh",
      "include_colab_link": true
    },
    "kernelspec": {
      "name": "python3",
      "display_name": "Python 3"
    },
    "language_info": {
      "name": "python"
    },
    "accelerator": "GPU"
  },
  "cells": [
    {
      "cell_type": "markdown",
      "metadata": {
        "id": "view-in-github",
        "colab_type": "text"
      },
      "source": [
        "<a href=\"https://colab.research.google.com/github/amanjain487/panoptic-segmentation-using-DETR/blob/main/Dataset_Creation.ipynb\" target=\"_parent\"><img src=\"https://colab.research.google.com/assets/colab-badge.svg\" alt=\"Open In Colab\"/></a>"
      ]
    },
    {
      "cell_type": "markdown",
      "source": [
        "# Create Dataset for Construction Material + COCO Classes\n",
        "\n",
        "## Following Operations are performed using this colab file\n",
        "- Given, construction dataset - things in our case\n",
        "- use pretrained DETR panoptic model to predict stuff and things for all given images\n",
        "- Add all stuff predictions as ground truth for our dataset and all things predictions as misc stuff class in ground truth\n",
        "- Test - Train split "
      ],
      "metadata": {
        "id": "6_emsoUYPHlW"
      }
    },
    {
      "cell_type": "markdown",
      "source": [
        "## Install Requirements and Prepare the Notebook"
      ],
      "metadata": {
        "id": "XDPeEwMJRK7d"
      }
    },
    {
      "cell_type": "code",
      "execution_count": 1,
      "metadata": {
        "colab": {
          "base_uri": "https://localhost:8080/"
        },
        "id": "STC41cG3O35Z",
        "outputId": "c55e0dec-04f8-46cd-d375-e84a93636b37"
      },
      "outputs": [
        {
          "output_type": "stream",
          "name": "stdout",
          "text": [
            "PyTorch 1.10.0+cu111 _CudaDeviceProperties(name='Tesla K80', major=3, minor=7, total_memory=11441MB, multi_processor_count=13)\n",
            "Collecting git+https://github.com/cocodataset/panopticapi.git\n",
            "  Cloning https://github.com/cocodataset/panopticapi.git to /tmp/pip-req-build-4ad1amx1\n",
            "  Running command git clone -q https://github.com/cocodataset/panopticapi.git /tmp/pip-req-build-4ad1amx1\n",
            "Requirement already satisfied: numpy in /usr/local/lib/python3.7/dist-packages (from panopticapi==0.1) (1.21.5)\n",
            "Requirement already satisfied: Pillow in /usr/local/lib/python3.7/dist-packages (from panopticapi==0.1) (7.1.2)\n",
            "Building wheels for collected packages: panopticapi\n",
            "  Building wheel for panopticapi (setup.py) ... \u001b[?25l\u001b[?25hdone\n",
            "  Created wheel for panopticapi: filename=panopticapi-0.1-py3-none-any.whl size=8306 sha256=f26aeeef061be4b59c4957e3663771c5a92a8d0b2b8aacb2e1adb627f7e30298\n",
            "  Stored in directory: /tmp/pip-ephem-wheel-cache-hh7l7u7n/wheels/ad/89/b8/b66cce9246af3d71d65d72c85ab993fd28e7578e1b0ed197f1\n",
            "Successfully built panopticapi\n",
            "Installing collected packages: panopticapi\n",
            "Successfully installed panopticapi-0.1\n"
          ]
        }
      ],
      "source": [
        "import time\n",
        "import glob\n",
        "import torch\n",
        "import os\n",
        "\n",
        "from IPython.display import Image, clear_output \n",
        "\n",
        "use_cuda = torch.cuda.is_available()\n",
        "device = torch.device(\"cuda\" if use_cuda else \"cpu\")\n",
        "print('PyTorch %s %s' % (torch.__version__, torch.cuda.get_device_properties(0) if torch.cuda.is_available() else 'CPU'))\n",
        "\n",
        "!pip install git+https://github.com/cocodataset/panopticapi.git"
      ]
    },
    {
      "cell_type": "markdown",
      "source": [
        "## Mount Drive \n",
        "\n",
        "We need drive access for the following things\n",
        "- Our dataset is stored in drive - to access the dataset\n",
        "- To extract original dataset directly in drive - and use them for groud truth creation\n",
        "- Create ground truths directly in drive"
      ],
      "metadata": {
        "id": "aJdFx4jtP_sA"
      }
    },
    {
      "cell_type": "code",
      "source": [
        "from google.colab import drive\n",
        "drive.mount('/content/drive', force_remount=True)"
      ],
      "metadata": {
        "colab": {
          "base_uri": "https://localhost:8080/"
        },
        "id": "A9-F3aDVO5IE",
        "outputId": "c82874d1-6979-4273-daaf-1755c5635dc3"
      },
      "execution_count": 2,
      "outputs": [
        {
          "output_type": "stream",
          "name": "stdout",
          "text": [
            "Mounted at /content/drive\n"
          ]
        }
      ]
    },
    {
      "cell_type": "markdown",
      "source": [
        "## Unzip the given original dataset\n",
        "\n",
        "- The dataset is uploaded in zip format\n",
        "- Unzip the dataset in drive itself\n",
        "- Once, unzipped, delete the zip file, to manage drive's limited space"
      ],
      "metadata": {
        "id": "3J69eUbVQJur"
      }
    },
    {
      "cell_type": "code",
      "source": [
        "# import os\n",
        "# os.chdir(\"/content/drive/MyDrive/Panoptic Segmentation using DETR/Original Dataset\")\n",
        "\n",
        "# import zipfile\n",
        "# !unzip construction_materials_dataset.zip \n",
        "# os.remove(\"construction_materials_dataset.zip\")"
      ],
      "metadata": {
        "id": "LDZRdzkBP-qK"
      },
      "execution_count": 3,
      "outputs": []
    },
    {
      "cell_type": "markdown",
      "source": [
        "##"
      ],
      "metadata": {
        "id": "Wk9HwUfuRIaV"
      }
    },
    {
      "cell_type": "markdown",
      "source": [
        "## Clone official DETR Repo to Drive\n",
        "- We will be passing our dataset images through official pre-trained DETR model by Facebook for getting predictions of COCO Classes\n",
        "- The output of DETR model will have lot of predictions ranging from 0% confidence to 100% confidence\n",
        "- All the predictions with confidence greater than 85% will become our ground truth for COCO classes which will be later combined with `construction materials` annotations which will become our final Dataset. "
      ],
      "metadata": {
        "id": "hlQO1MBCosv3"
      }
    },
    {
      "cell_type": "code",
      "source": [
        "import os\n",
        "import sys\n",
        "\n",
        "os.chdir(\"/content/drive/MyDrive/Panoptic Segmentation using DETR/\")\n",
        "!git clone https://github.com/facebookresearch/detr.git\n",
        "sys.path.append(os.path.join(os.getcwd(), \"detr/\"))\n"
      ],
      "metadata": {
        "id": "4S6Rvq07RF8z",
        "colab": {
          "base_uri": "https://localhost:8080/"
        },
        "outputId": "3b9914e3-3dd3-4145-a879-e21179cdc728"
      },
      "execution_count": 4,
      "outputs": [
        {
          "output_type": "stream",
          "name": "stdout",
          "text": [
            "fatal: destination path 'detr' already exists and is not an empty directory.\n"
          ]
        }
      ]
    },
    {
      "cell_type": "markdown",
      "source": [
        ""
      ],
      "metadata": {
        "id": "PVbYHuQ0pSJK"
      }
    }
  ]
}