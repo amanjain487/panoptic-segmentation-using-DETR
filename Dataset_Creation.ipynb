{
  "nbformat": 4,
  "nbformat_minor": 0,
  "metadata": {
    "colab": {
      "name": "Dataset Creation",
      "provenance": [],
      "collapsed_sections": [],
      "include_colab_link": true
    },
    "kernelspec": {
      "name": "python3",
      "display_name": "Python 3"
    },
    "language_info": {
      "name": "python"
    },
    "accelerator": "GPU"
  },
  "cells": [
    {
      "cell_type": "markdown",
      "metadata": {
        "id": "view-in-github",
        "colab_type": "text"
      },
      "source": [
        "<a href=\"https://colab.research.google.com/github/amanjain487/panoptic-segmentation-using-DETR/blob/anubhav/Dataset_Creation.ipynb\" target=\"_parent\"><img src=\"https://colab.research.google.com/assets/colab-badge.svg\" alt=\"Open In Colab\"/></a>"
      ]
    },
    {
      "cell_type": "markdown",
      "source": [
        "# Create Dataset for Construction Material + COCO Classes\n",
        "\n",
        "## Following Operations are performed using this colab file\n",
        "- Given, construction dataset - things in our case\n",
        "- use pretrained DETR panoptic model to predict stuff and things for all given images\n",
        "- Add all stuff predictions as ground truth for our dataset and all things predictions as misc stuff class in ground truth\n",
        "- Test - Train split "
      ],
      "metadata": {
        "id": "6_emsoUYPHlW"
      }
    },
    {
      "cell_type": "markdown",
      "source": [
        "## Install Requirements and Prepare the Notebook"
      ],
      "metadata": {
        "id": "XDPeEwMJRK7d"
      }
    },
    {
      "cell_type": "code",
      "execution_count": 1,
      "metadata": {
        "colab": {
          "base_uri": "https://localhost:8080/"
        },
        "id": "STC41cG3O35Z",
        "outputId": "412e8ab8-50eb-4a1a-d3cc-f1c194a022cd"
      },
      "outputs": [
        {
          "output_type": "stream",
          "name": "stdout",
          "text": [
            "PyTorch 1.10.0+cu111 _CudaDeviceProperties(name='Tesla K80', major=3, minor=7, total_memory=11441MB, multi_processor_count=13)\n",
            "Collecting git+https://github.com/cocodataset/panopticapi.git\n",
            "  Cloning https://github.com/cocodataset/panopticapi.git to /tmp/pip-req-build-mew3r8sc\n",
            "  Running command git clone -q https://github.com/cocodataset/panopticapi.git /tmp/pip-req-build-mew3r8sc\n",
            "Requirement already satisfied: numpy in /usr/local/lib/python3.7/dist-packages (from panopticapi==0.1) (1.21.5)\n",
            "Requirement already satisfied: Pillow in /usr/local/lib/python3.7/dist-packages (from panopticapi==0.1) (7.1.2)\n",
            "Building wheels for collected packages: panopticapi\n",
            "  Building wheel for panopticapi (setup.py) ... \u001b[?25l\u001b[?25hdone\n",
            "  Created wheel for panopticapi: filename=panopticapi-0.1-py3-none-any.whl size=8306 sha256=8dd5f1de7147825f7df28c8f7bde1ad845879505752ba5f2b14d7b519cf3cf11\n",
            "  Stored in directory: /tmp/pip-ephem-wheel-cache-9qdohygq/wheels/ad/89/b8/b66cce9246af3d71d65d72c85ab993fd28e7578e1b0ed197f1\n",
            "Successfully built panopticapi\n",
            "Installing collected packages: panopticapi\n",
            "Successfully installed panopticapi-0.1\n"
          ]
        }
      ],
      "source": [
        "import time\n",
        "import glob\n",
        "import torch\n",
        "import os\n",
        "\n",
        "from IPython.display import Image, clear_output \n",
        "\n",
        "use_cuda = torch.cuda.is_available()\n",
        "device = torch.device(\"cuda\" if use_cuda else \"cpu\")\n",
        "print('PyTorch %s %s' % (torch.__version__, torch.cuda.get_device_properties(0) if torch.cuda.is_available() else 'CPU'))\n",
        "\n",
        "!pip install git+https://github.com/cocodataset/panopticapi.git"
      ]
    },
    {
      "cell_type": "markdown",
      "source": [
        "## Mount Drive \n",
        "\n",
        "We need drive access for the following things\n",
        "- Our dataset is stored in drive - to access the dataset\n",
        "- To extract original dataset directly in drive - and use them for groud truth creation\n",
        "- Create ground truths directly in drive"
      ],
      "metadata": {
        "id": "aJdFx4jtP_sA"
      }
    },
    {
      "cell_type": "code",
      "source": [
        "from google.colab import drive\n",
        "drive.mount('/content/drive', force_remount=True)"
      ],
      "metadata": {
        "colab": {
          "base_uri": "https://localhost:8080/"
        },
        "id": "A9-F3aDVO5IE",
        "outputId": "951451cc-edc5-4e66-bfb0-db60370f111d"
      },
      "execution_count": 2,
      "outputs": [
        {
          "output_type": "stream",
          "name": "stdout",
          "text": [
            "Mounted at /content/drive\n"
          ]
        }
      ]
    },
    {
      "cell_type": "markdown",
      "source": [
        "## Unzip the given original dataset\n",
        "\n",
        "- The dataset is uploaded in zip format\n",
        "- Unzip the dataset in drive itself\n",
        "- Once, unzipped, delete the zip file, to manage drive's limited space"
      ],
      "metadata": {
        "id": "3J69eUbVQJur"
      }
    },
    {
      "cell_type": "code",
      "source": [
        "# import os\n",
        "# os.chdir(\"/content/drive/MyDrive/Panoptic Segmentation using DETR/Original Dataset\")\n",
        "\n",
        "# import zipfile\n",
        "# !unzip construction_materials_dataset.zip \n",
        "# os.remove(\"construction_materials_dataset.zip\")"
      ],
      "metadata": {
        "id": "LDZRdzkBP-qK"
      },
      "execution_count": 3,
      "outputs": []
    },
    {
      "cell_type": "markdown",
      "source": [
        "## Clone official DETR Repo to Drive\n",
        "- We will be passing our dataset images through official pre-trained DETR model by Facebook for getting predictions of COCO Classes\n",
        "- The output of DETR model will have lot of predictions ranging from 0% confidence to 100% confidence\n",
        "- All the predictions with confidence greater than 85% will become our ground truth for COCO classes which will be later combined with `construction materials` annotations which will become our final Dataset. "
      ],
      "metadata": {
        "id": "hlQO1MBCosv3"
      }
    },
    {
      "cell_type": "code",
      "source": [
        "import os\n",
        "import sys\n",
        "\n",
        "os.chdir(\"/content/drive/MyDrive/Panoptic Segmentation using DETR/\")\n",
        "!git clone https://github.com/facebookresearch/detr.git\n",
        "sys.path.append(os.path.join(os.getcwd(), \"detr/\"))\n"
      ],
      "metadata": {
        "id": "4S6Rvq07RF8z",
        "colab": {
          "base_uri": "https://localhost:8080/",
          "height": 242
        },
        "outputId": "98c05349-5163-4374-9129-a2107b26b1e0"
      },
      "execution_count": 4,
      "outputs": [
        {
          "output_type": "error",
          "ename": "FileNotFoundError",
          "evalue": "ignored",
          "traceback": [
            "\u001b[0;31m---------------------------------------------------------------------------\u001b[0m",
            "\u001b[0;31mFileNotFoundError\u001b[0m                         Traceback (most recent call last)",
            "\u001b[0;32m<ipython-input-4-06f18066f913>\u001b[0m in \u001b[0;36m<module>\u001b[0;34m()\u001b[0m\n\u001b[1;32m      2\u001b[0m \u001b[0;32mimport\u001b[0m \u001b[0msys\u001b[0m\u001b[0;34m\u001b[0m\u001b[0;34m\u001b[0m\u001b[0m\n\u001b[1;32m      3\u001b[0m \u001b[0;34m\u001b[0m\u001b[0m\n\u001b[0;32m----> 4\u001b[0;31m \u001b[0mos\u001b[0m\u001b[0;34m.\u001b[0m\u001b[0mchdir\u001b[0m\u001b[0;34m(\u001b[0m\u001b[0;34m\"/content/drive/MyDrive/Panoptic Segmentation using DETR/\"\u001b[0m\u001b[0;34m)\u001b[0m\u001b[0;34m\u001b[0m\u001b[0;34m\u001b[0m\u001b[0m\n\u001b[0m\u001b[1;32m      5\u001b[0m \u001b[0mget_ipython\u001b[0m\u001b[0;34m(\u001b[0m\u001b[0;34m)\u001b[0m\u001b[0;34m.\u001b[0m\u001b[0msystem\u001b[0m\u001b[0;34m(\u001b[0m\u001b[0;34m'git clone https://github.com/facebookresearch/detr.git'\u001b[0m\u001b[0;34m)\u001b[0m\u001b[0;34m\u001b[0m\u001b[0;34m\u001b[0m\u001b[0m\n\u001b[1;32m      6\u001b[0m \u001b[0msys\u001b[0m\u001b[0;34m.\u001b[0m\u001b[0mpath\u001b[0m\u001b[0;34m.\u001b[0m\u001b[0mappend\u001b[0m\u001b[0;34m(\u001b[0m\u001b[0mos\u001b[0m\u001b[0;34m.\u001b[0m\u001b[0mpath\u001b[0m\u001b[0;34m.\u001b[0m\u001b[0mjoin\u001b[0m\u001b[0;34m(\u001b[0m\u001b[0mos\u001b[0m\u001b[0;34m.\u001b[0m\u001b[0mgetcwd\u001b[0m\u001b[0;34m(\u001b[0m\u001b[0;34m)\u001b[0m\u001b[0;34m,\u001b[0m \u001b[0;34m\"detr/\"\u001b[0m\u001b[0;34m)\u001b[0m\u001b[0;34m)\u001b[0m\u001b[0;34m\u001b[0m\u001b[0;34m\u001b[0m\u001b[0m\n",
            "\u001b[0;31mFileNotFoundError\u001b[0m: [Errno 2] No such file or directory: '/content/drive/MyDrive/Panoptic Segmentation using DETR/'"
          ]
        }
      ]
    },
    {
      "cell_type": "markdown",
      "source": [
        ""
      ],
      "metadata": {
        "id": "PVbYHuQ0pSJK"
      }
    },
    {
      "cell_type": "code",
      "source": [
        "existing_coco_categories = [\n",
        "    {\"color\": [220, 20, 60], \"isthing\": 1, \"id\": 1, \"name\": \"person\"},\n",
        "    {\"color\": [119, 11, 32], \"isthing\": 1, \"id\": 2, \"name\": \"bicycle\"},\n",
        "    {\"color\": [0, 0, 142], \"isthing\": 1, \"id\": 3, \"name\": \"car\"},\n",
        "    {\"color\": [0, 0, 230], \"isthing\": 1, \"id\": 4, \"name\": \"motorcycle\"},\n",
        "    {\"color\": [106, 0, 228], \"isthing\": 1, \"id\": 5, \"name\": \"airplane\"},\n",
        "    {\"color\": [0, 60, 100], \"isthing\": 1, \"id\": 6, \"name\": \"bus\"},\n",
        "    {\"color\": [0, 80, 100], \"isthing\": 1, \"id\": 7, \"name\": \"train\"},\n",
        "    {\"color\": [0, 0, 70], \"isthing\": 1, \"id\": 8, \"name\": \"truck\"},\n",
        "    {\"color\": [0, 0, 192], \"isthing\": 1, \"id\": 9, \"name\": \"boat\"},\n",
        "    {\"color\": [250, 170, 30], \"isthing\": 1, \"id\": 10, \"name\": \"traffic light\"},\n",
        "    {\"color\": [100, 170, 30], \"isthing\": 1, \"id\": 11, \"name\": \"fire hydrant\"},\n",
        "    {\"color\": [220, 220, 0], \"isthing\": 1, \"id\": 13, \"name\": \"stop sign\"},\n",
        "    {\"color\": [175, 116, 175], \"isthing\": 1, \"id\": 14, \"name\": \"parking meter\"},\n",
        "    {\"color\": [250, 0, 30], \"isthing\": 1, \"id\": 15, \"name\": \"bench\"},\n",
        "    {\"color\": [165, 42, 42], \"isthing\": 1, \"id\": 16, \"name\": \"bird\"},\n",
        "    {\"color\": [255, 77, 255], \"isthing\": 1, \"id\": 17, \"name\": \"cat\"},\n",
        "    {\"color\": [0, 226, 252], \"isthing\": 1, \"id\": 18, \"name\": \"dog\"},\n",
        "    {\"color\": [182, 182, 255], \"isthing\": 1, \"id\": 19, \"name\": \"horse\"},\n",
        "    {\"color\": [0, 82, 0], \"isthing\": 1, \"id\": 20, \"name\": \"sheep\"},\n",
        "    {\"color\": [120, 166, 157], \"isthing\": 1, \"id\": 21, \"name\": \"cow\"},\n",
        "    {\"color\": [110, 76, 0], \"isthing\": 1, \"id\": 22, \"name\": \"elephant\"},\n",
        "    {\"color\": [174, 57, 255], \"isthing\": 1, \"id\": 23, \"name\": \"bear\"},\n",
        "    {\"color\": [199, 100, 0], \"isthing\": 1, \"id\": 24, \"name\": \"zebra\"},\n",
        "    {\"color\": [72, 0, 118], \"isthing\": 1, \"id\": 25, \"name\": \"giraffe\"},\n",
        "    {\"color\": [255, 179, 240], \"isthing\": 1, \"id\": 27, \"name\": \"backpack\"},\n",
        "    {\"color\": [0, 125, 92], \"isthing\": 1, \"id\": 28, \"name\": \"umbrella\"},\n",
        "    {\"color\": [209, 0, 151], \"isthing\": 1, \"id\": 31, \"name\": \"handbag\"},\n",
        "    {\"color\": [188, 208, 182], \"isthing\": 1, \"id\": 32, \"name\": \"tie\"},\n",
        "    {\"color\": [0, 220, 176], \"isthing\": 1, \"id\": 33, \"name\": \"suitcase\"},\n",
        "    {\"color\": [255, 99, 164], \"isthing\": 1, \"id\": 34, \"name\": \"frisbee\"},\n",
        "    {\"color\": [92, 0, 73], \"isthing\": 1, \"id\": 35, \"name\": \"skis\"},\n",
        "    {\"color\": [133, 129, 255], \"isthing\": 1, \"id\": 36, \"name\": \"snowboard\"},\n",
        "    {\"color\": [78, 180, 255], \"isthing\": 1, \"id\": 37, \"name\": \"sports ball\"},\n",
        "    {\"color\": [0, 228, 0], \"isthing\": 1, \"id\": 38, \"name\": \"kite\"},\n",
        "    {\"color\": [174, 255, 243], \"isthing\": 1, \"id\": 39, \"name\": \"baseball bat\"},\n",
        "    {\"color\": [45, 89, 255], \"isthing\": 1, \"id\": 40, \"name\": \"baseball glove\"},\n",
        "    {\"color\": [134, 134, 103], \"isthing\": 1, \"id\": 41, \"name\": \"skateboard\"},\n",
        "    {\"color\": [145, 148, 174], \"isthing\": 1, \"id\": 42, \"name\": \"surfboard\"},\n",
        "    {\"color\": [255, 208, 186], \"isthing\": 1, \"id\": 43, \"name\": \"tennis racket\"},\n",
        "    {\"color\": [197, 226, 255], \"isthing\": 1, \"id\": 44, \"name\": \"bottle\"},\n",
        "    {\"color\": [171, 134, 1], \"isthing\": 1, \"id\": 46, \"name\": \"wine glass\"},\n",
        "    {\"color\": [109, 63, 54], \"isthing\": 1, \"id\": 47, \"name\": \"cup\"},\n",
        "    {\"color\": [207, 138, 255], \"isthing\": 1, \"id\": 48, \"name\": \"fork\"},\n",
        "    {\"color\": [151, 0, 95], \"isthing\": 1, \"id\": 49, \"name\": \"knife\"},\n",
        "    {\"color\": [9, 80, 61], \"isthing\": 1, \"id\": 50, \"name\": \"spoon\"},\n",
        "    {\"color\": [84, 105, 51], \"isthing\": 1, \"id\": 51, \"name\": \"bowl\"},\n",
        "    {\"color\": [74, 65, 105], \"isthing\": 1, \"id\": 52, \"name\": \"banana\"},\n",
        "    {\"color\": [166, 196, 102], \"isthing\": 1, \"id\": 53, \"name\": \"apple\"},\n",
        "    {\"color\": [208, 195, 210], \"isthing\": 1, \"id\": 54, \"name\": \"sandwich\"},\n",
        "    {\"color\": [255, 109, 65], \"isthing\": 1, \"id\": 55, \"name\": \"orange\"},\n",
        "    {\"color\": [0, 143, 149], \"isthing\": 1, \"id\": 56, \"name\": \"broccoli\"},\n",
        "    {\"color\": [179, 0, 194], \"isthing\": 1, \"id\": 57, \"name\": \"carrot\"},\n",
        "    {\"color\": [209, 99, 106], \"isthing\": 1, \"id\": 58, \"name\": \"hot dog\"},\n",
        "    {\"color\": [5, 121, 0], \"isthing\": 1, \"id\": 59, \"name\": \"pizza\"},\n",
        "    {\"color\": [227, 255, 205], \"isthing\": 1, \"id\": 60, \"name\": \"donut\"},\n",
        "    {\"color\": [147, 186, 208], \"isthing\": 1, \"id\": 61, \"name\": \"cake\"},\n",
        "    {\"color\": [153, 69, 1], \"isthing\": 1, \"id\": 62, \"name\": \"chair\"},\n",
        "    {\"color\": [3, 95, 161], \"isthing\": 1, \"id\": 63, \"name\": \"couch\"},\n",
        "    {\"color\": [163, 255, 0], \"isthing\": 1, \"id\": 64, \"name\": \"potted plant\"},\n",
        "    {\"color\": [119, 0, 170], \"isthing\": 1, \"id\": 65, \"name\": \"bed\"},\n",
        "    {\"color\": [0, 182, 199], \"isthing\": 1, \"id\": 67, \"name\": \"dining table\"},\n",
        "    {\"color\": [0, 165, 120], \"isthing\": 1, \"id\": 70, \"name\": \"toilet\"},\n",
        "    {\"color\": [183, 130, 88], \"isthing\": 1, \"id\": 72, \"name\": \"tv\"},\n",
        "    {\"color\": [95, 32, 0], \"isthing\": 1, \"id\": 73, \"name\": \"laptop\"},\n",
        "    {\"color\": [130, 114, 135], \"isthing\": 1, \"id\": 74, \"name\": \"mouse\"},\n",
        "    {\"color\": [110, 129, 133], \"isthing\": 1, \"id\": 75, \"name\": \"remote\"},\n",
        "    {\"color\": [166, 74, 118], \"isthing\": 1, \"id\": 76, \"name\": \"keyboard\"},\n",
        "    {\"color\": [219, 142, 185], \"isthing\": 1, \"id\": 77, \"name\": \"cell phone\"},\n",
        "    {\"color\": [79, 210, 114], \"isthing\": 1, \"id\": 78, \"name\": \"microwave\"},\n",
        "    {\"color\": [178, 90, 62], \"isthing\": 1, \"id\": 79, \"name\": \"oven\"},\n",
        "    {\"color\": [65, 70, 15], \"isthing\": 1, \"id\": 80, \"name\": \"toaster\"},\n",
        "    {\"color\": [127, 167, 115], \"isthing\": 1, \"id\": 81, \"name\": \"sink\"},\n",
        "    {\"color\": [59, 105, 106], \"isthing\": 1, \"id\": 82, \"name\": \"refrigerator\"},\n",
        "    {\"color\": [142, 108, 45], \"isthing\": 1, \"id\": 84, \"name\": \"book\"},\n",
        "    {\"color\": [196, 172, 0], \"isthing\": 1, \"id\": 85, \"name\": \"clock\"},\n",
        "    {\"color\": [95, 54, 80], \"isthing\": 1, \"id\": 86, \"name\": \"vase\"},\n",
        "    {\"color\": [128, 76, 255], \"isthing\": 1, \"id\": 87, \"name\": \"scissors\"},\n",
        "    {\"color\": [201, 57, 1], \"isthing\": 1, \"id\": 88, \"name\": \"teddy bear\"},\n",
        "    {\"color\": [246, 0, 122], \"isthing\": 1, \"id\": 89, \"name\": \"hair drier\"},\n",
        "    {\"color\": [191, 162, 208], \"isthing\": 1, \"id\": 90, \"name\": \"toothbrush\"},\n",
        "    {\"color\": [255, 255, 128], \"isthing\": 0, \"id\": 92, \"name\": \"banner\"},\n",
        "    {\"color\": [147, 211, 203], \"isthing\": 0, \"id\": 93, \"name\": \"blanket\"},\n",
        "    {\"color\": [150, 100, 100], \"isthing\": 0, \"id\": 95, \"name\": \"bridge\"},\n",
        "    {\"color\": [168, 171, 172], \"isthing\": 0, \"id\": 100, \"name\": \"cardboard\"},\n",
        "    {\"color\": [146, 112, 198], \"isthing\": 0, \"id\": 107, \"name\": \"counter\"},\n",
        "    {\"color\": [210, 170, 100], \"isthing\": 0, \"id\": 109, \"name\": \"curtain\"},\n",
        "    {\"color\": [92, 136, 89], \"isthing\": 0, \"id\": 112, \"name\": \"door-stuff\"},\n",
        "    {\"color\": [218, 88, 184], \"isthing\": 0, \"id\": 118, \"name\": \"floor-wood\"},\n",
        "    {\"color\": [241, 129, 0], \"isthing\": 0, \"id\": 119, \"name\": \"flower\"},\n",
        "    {\"color\": [217, 17, 255], \"isthing\": 0, \"id\": 122, \"name\": \"fruit\"},\n",
        "    {\"color\": [124, 74, 181], \"isthing\": 0, \"id\": 125, \"name\": \"gravel\"},\n",
        "    {\"color\": [70, 70, 70], \"isthing\": 0, \"id\": 128, \"name\": \"house\"},\n",
        "    {\"color\": [255, 228, 255], \"isthing\": 0, \"id\": 130, \"name\": \"light\"},\n",
        "    {\"color\": [154, 208, 0], \"isthing\": 0, \"id\": 133, \"name\": \"mirror-stuff\"},\n",
        "    {\"color\": [193, 0, 92], \"isthing\": 0, \"id\": 138, \"name\": \"net\"},\n",
        "    {\"color\": [76, 91, 113], \"isthing\": 0, \"id\": 141, \"name\": \"pillow\"},\n",
        "    {\"color\": [255, 180, 195], \"isthing\": 0, \"id\": 144, \"name\": \"platform\"},\n",
        "    {\"color\": [106, 154, 176], \"isthing\": 0, \"id\": 145, \"name\": \"playingfield\"},\n",
        "    {\"color\": [230, 150, 140], \"isthing\": 0, \"id\": 147, \"name\": \"railroad\"},\n",
        "    {\"color\": [60, 143, 255], \"isthing\": 0, \"id\": 148, \"name\": \"river\"},\n",
        "    {\"color\": [128, 64, 128], \"isthing\": 0, \"id\": 149, \"name\": \"road\"},\n",
        "    {\"color\": [92, 82, 55], \"isthing\": 0, \"id\": 151, \"name\": \"roof\"},\n",
        "    {\"color\": [254, 212, 124], \"isthing\": 0, \"id\": 154, \"name\": \"sand\"},\n",
        "    {\"color\": [73, 77, 174], \"isthing\": 0, \"id\": 155, \"name\": \"sea\"},\n",
        "    {\"color\": [255, 160, 98], \"isthing\": 0, \"id\": 156, \"name\": \"shelf\"},\n",
        "    {\"color\": [255, 255, 255], \"isthing\": 0, \"id\": 159, \"name\": \"snow\"},\n",
        "    {\"color\": [104, 84, 109], \"isthing\": 0, \"id\": 161, \"name\": \"stairs\"},\n",
        "    {\"color\": [169, 164, 131], \"isthing\": 0, \"id\": 166, \"name\": \"tent\"},\n",
        "    {\"color\": [225, 199, 255], \"isthing\": 0, \"id\": 168, \"name\": \"towel\"},\n",
        "    {\"color\": [137, 54, 74], \"isthing\": 0, \"id\": 171, \"name\": \"wall-brick\"},\n",
        "    {\"color\": [135, 158, 223], \"isthing\": 0, \"id\": 175, \"name\": \"wall-stone\"},\n",
        "    {\"color\": [7, 246, 231], \"isthing\": 0, \"id\": 176, \"name\": \"wall-tile\"},\n",
        "    {\"color\": [107, 255, 200], \"isthing\": 0, \"id\": 177, \"name\": \"wall-wood\"},\n",
        "    {\"color\": [58, 41, 149], \"isthing\": 0, \"id\": 178, \"name\": \"water-other\"},\n",
        "    {\"color\": [183, 121, 142], \"isthing\": 0, \"id\": 180, \"name\": \"window-blind\"},\n",
        "    {\"color\": [255, 73, 97], \"isthing\": 0, \"id\": 181, \"name\": \"window-other\"},\n",
        "    {\"color\": [107, 142, 35], \"isthing\": 0, \"id\": 184, \"name\": \"tree-merged\"},\n",
        "    {\"color\": [190, 153, 153], \"isthing\": 0, \"id\": 185, \"name\": \"fence-merged\"},\n",
        "    {\"color\": [146, 139, 141], \"isthing\": 0, \"id\": 186, \"name\": \"ceiling-merged\"},\n",
        "    {\"color\": [70, 130, 180], \"isthing\": 0, \"id\": 187, \"name\": \"sky-other-merged\"},\n",
        "    {\"color\": [134, 199, 156], \"isthing\": 0, \"id\": 188, \"name\": \"cabinet-merged\"},\n",
        "    {\"color\": [209, 226, 140], \"isthing\": 0, \"id\": 189, \"name\": \"table-merged\"},\n",
        "    {\"color\": [96, 36, 108], \"isthing\": 0, \"id\": 190, \"name\": \"floor-other-merged\"},\n",
        "    {\"color\": [96, 96, 96], \"isthing\": 0, \"id\": 191, \"name\": \"pavement-merged\"},\n",
        "    {\"color\": [64, 170, 64], \"isthing\": 0, \"id\": 192, \"name\": \"mountain-merged\"},\n",
        "    {\"color\": [152, 251, 152], \"isthing\": 0, \"id\": 193, \"name\": \"grass-merged\"},\n",
        "    {\"color\": [208, 229, 228], \"isthing\": 0, \"id\": 194, \"name\": \"dirt-merged\"},\n",
        "    {\"color\": [206, 186, 171], \"isthing\": 0, \"id\": 195, \"name\": \"paper-merged\"},\n",
        "    {\"color\": [152, 161, 64], \"isthing\": 0, \"id\": 196, \"name\": \"food-other-merged\"},\n",
        "    {\"color\": [116, 112, 0], \"isthing\": 0, \"id\": 197, \"name\": \"building-other-merged\"},\n",
        "    {\"color\": [0, 114, 143], \"isthing\": 0, \"id\": 198, \"name\": \"rock-merged\"},\n",
        "    {\"color\": [102, 102, 156], \"isthing\": 0, \"id\": 199, \"name\": \"wall-other-merged\"},\n",
        "    {\"color\": [250, 141, 255], \"isthing\": 0, \"id\": 200, \"name\": \"rug-merged\"},\n",
        "]\n",
        "\n",
        "categories_for_pp_project = [{'color': [220, 20, 60], 'isthing': 0, 'id': 1, 'name': 'misc'},\n",
        "            {'color': [255, 255, 128], 'isthing': 0, 'id': 2, 'name': 'textile'},\n",
        "            {'color': [150, 100, 100], 'isthing': 0, 'id': 3, 'name': 'building'},\n",
        "            {'color': [168, 171, 172], 'isthing': 0, 'id': 4, 'name': 'rawmaterial'},\n",
        "            {'color': [146, 112, 198], 'isthing': 0, 'id': 5, 'name': 'furniture'},\n",
        "            {'color': [218, 88, 184], 'isthing': 0, 'id': 6, 'name': 'floor'},\n",
        "            {'color': [241, 129, 0], 'isthing': 0, 'id': 7, 'name': 'plant'},\n",
        "            {'color': [217, 17, 255], 'isthing': 0, 'id': 8, 'name': 'food'},\n",
        "            {'color': [124, 74, 181], 'isthing': 0, 'id': 9, 'name': 'ground'},\n",
        "            {'color': [193, 0, 92], 'isthing': 0, 'id': 10, 'name': 'structural'},\n",
        "            {'color': [60, 143, 255], 'isthing': 0, 'id': 11, 'name': 'water'},\n",
        "            {'color': [137, 54, 74], 'isthing': 0, 'id': 12, 'name': 'wall'},\n",
        "            {'color': [183, 121, 142], 'isthing': 0, 'id': 13, 'name': 'window'},\n",
        "            {'color': [146, 139, 141], 'isthing': 0, 'id': 14, 'name': 'ceiling'},\n",
        "            {'color': [70, 130, 180], 'isthing': 0, 'id': 15, 'name': 'sky'},\n",
        "            {'color': [64, 170, 64], 'isthing': 0, 'id': 16, 'name': 'solid'}]\n",
        "\n",
        "old_to_new_category_mapping = {1: 1, 2: 1, 3: 1, 4: 1, 5: 1, 6: 1, 7: 1, 8: 1, 9: 1, 10: 1, 11: 1, 13: 1, 14: 1, 15: 1, 16: 1, 17: 1, 18: 1,\n",
        "           19: 1, 20: 1, 21: 1, 22: 1, 23: 1, 24: 1, 25: 1, 27: 1, 28: 1, 31: 1, 32: 1, 33: 1, 34: 1, 35: 1, 36: 1,\n",
        "           37: 1, 38: 1, 39: 1, 40: 1, 41: 1, 42: 1, 43: 1, 44: 1, 46: 1, 47: 1, 48: 1, 49: 1, 50: 1, 51: 1, 52: 1,\n",
        "           53: 1, 54: 1, 55: 1, 56: 1, 57: 1, 58: 1, 59: 1, 60: 1, 61: 1, 62: 1, 63: 1, 64: 1, 65: 1, 67: 1, 70: 1,\n",
        "           72: 1, 73: 1, 74: 1, 75: 1, 76: 1, 77: 1, 78: 1, 79: 1, 80: 1, 81: 1, 82: 1, 84: 1, 85: 1, 86: 1, 87: 1,\n",
        "           88: 1, 89: 1, 90: 1, 92: 2, 93: 2, 95: 3, 100: 4, 107: 5, 109: 2, 112: 5, 118: 6, 119: 7, 122: 8, 125: 9,\n",
        "           128: 3, 130: 5, 133: 5, 138: 10, 141: 2, 144: 9, 145: 9, 147: 9, 148: 11, 149: 9, 151: 3, 154: 9, 155: 11,\n",
        "           156: 5, 159: 9, 161: 5, 166: 3, 168: 2, 171: 12, 175: 12, 176: 12, 177: 12, 178: 11, 180: 13, 181: 13,\n",
        "           184: 7, 185: 10, 186: 14, 187: 15, 188: 5, 189: 5, 190: 6, 191: 9, 192: 16, 193: 7, 194: 9, 195: 4, 196: 8,\n",
        "           197: 3, 198: 16, 199: 12, 200: 2}"
      ],
      "metadata": {
        "id": "ixrocAHwiYxE"
      },
      "execution_count": 5,
      "outputs": []
    },
    {
      "cell_type": "code",
      "source": [
        "coco_category_names = ['N/A'] * 201\n",
        "for c in existing_coco_categories:\n",
        "    coco_category_names[c['id']] = c['name']"
      ],
      "metadata": {
        "id": "UYPezJB2pmXd"
      },
      "execution_count": 6,
      "outputs": []
    },
    {
      "cell_type": "code",
      "source": [
        "# since we are treating all things as misc and that belongs to single color class, we can use colors of other things\n",
        "available_colors_for_new_categories = [\n",
        "    [119, 11, 32], \n",
        "    [0, 0, 142], \n",
        "    [0, 0, 230], \n",
        "    [106, 0, 228], \n",
        "    [0, 60, 100],\n",
        "    [0, 80, 100], \n",
        "    [0, 0, 70],\n",
        "    [0, 0, 192], \n",
        "    [250, 170, 30], \n",
        "    [100, 170, 30], \n",
        "    [220, 220, 0], \n",
        "    [175, 116, 175], \n",
        "    [250, 0, 30],\n",
        "    [165, 42, 42], \n",
        "    [255, 77, 255], \n",
        "    [0, 226, 252], \n",
        "    [182, 182, 255], \n",
        "    [0, 82, 0], \n",
        "    [120, 166, 157],\n",
        "    [110, 76, 0], \n",
        "    [174, 57, 255], \n",
        "    [199, 100, 0], \n",
        "    [72, 0, 118], \n",
        "    [255, 179, 240], \n",
        "    [0, 125, 92],\n",
        "    [209, 0, 151], \n",
        "    [188, 208, 182], \n",
        "    [0, 220, 176],\n",
        "    [255, 99, 164], \n",
        "    [92, 0, 73], \n",
        "    [133, 129, 255],\n",
        "    [78, 180, 255], \n",
        "    [0, 228, 0], \n",
        "    [174, 255, 243], \n",
        "    [45, 89, 255], \n",
        "    [134, 134, 103], \n",
        "    [145, 148, 174],\n",
        "    [255, 208, 186], \n",
        "    [197, 226, 255], \n",
        "    [171, 134, 1], \n",
        "    [109, 63, 54], \n",
        "    [207, 138, 255], \n",
        "    [151, 0, 95],\n",
        "    [9, 80, 61], \n",
        "    [84, 105, 51], \n",
        "    [74, 65, 105], \n",
        "    [166, 196, 102], \n",
        "    [208, 195, 210], \n",
        "    [255, 109, 65],\n",
        "    [0, 143, 149], \n",
        "    [179, 0, 194], \n",
        "    [209, 99, 106], \n",
        "    [5, 121, 0], \n",
        "    [227, 255, 205]\n",
        "]"
      ],
      "metadata": {
        "id": "zRIYw0wmjIHO"
      },
      "execution_count": 7,
      "outputs": []
    },
    {
      "cell_type": "code",
      "source": [
        "new_categories = [\n",
        "    \"aac_blocks\",\n",
        "    \"adhesives\",\n",
        "    \"ahus\",\n",
        "    \"aluminium_frames_for_false_ceiling\",\n",
        "    \"chiller\",\n",
        "    \"concrete_mixer_machine\",\n",
        "    \"concrete_pump\",\n",
        "    \"control_panel\",\n",
        "    \"cu_piping\",\n",
        "    \"distribution_transformer\",\n",
        "    \"dump_truck_tipper_truck\",\n",
        "    \"emulsion_paint\",\n",
        "    \"enamel_paint\",\n",
        "    \"fine_aggregate\",\n",
        "    \"fire_buckets\",\n",
        "    \"fire_extinguishers\",\n",
        "    \"glass_wool\",\n",
        "    \"grader\",\n",
        "    \"hoist\",\n",
        "    \"hollow_concrete_blocks\",\n",
        "    \"hot_mix_plant\",\n",
        "    \"hydra_crane\",\n",
        "    \"interlocked_switched_socket\",\n",
        "    \"junction_box\",\n",
        "    \"lime\",\n",
        "    \"marble\",\n",
        "    \"metal_primer\",\n",
        "    \"pipe_fittings\",\n",
        "    \"rcc_hume_pipes\",\n",
        "    \"refrigerant_gas\",\n",
        "    \"river_sand\",\n",
        "    \"rmc_batching_plant\",\n",
        "    \"rmu_units\",\n",
        "    \"sanitary_fixtures\",\n",
        "    \"skid_steer_loader\",\n",
        "    \"smoke_detectors\",\n",
        "    \"split_units\",\n",
        "    \"structural_steel_channel\",\n",
        "    \"switch_boards_and_switches\",\n",
        "    \"texture_paint\",\n",
        "    \"threaded_rod\",\n",
        "    \"transit_mixer\",\n",
        "    \"vcb_panel\",\n",
        "    \"vitrified_tiles\",\n",
        "    \"vrf_units\",\n",
        "    \"water_tank\",\n",
        "    \"wheel_loader\",\n",
        "    \"wood_primer\"\n",
        "]\n"
      ],
      "metadata": {
        "id": "lx_DTls_jJoM"
      },
      "execution_count": 8,
      "outputs": []
    },
    {
      "cell_type": "code",
      "source": [
        "category_id = 17\n",
        "available_color_id = 0\n",
        "for category in new_categories:\n",
        "    categories_for_pp_project.append({'color': available_colors_for_new_categories[available_color_id], 'isthing': 1, 'id': category_id, 'name': category})\n",
        "    category_id += 1\n",
        "    available_color_id += 1\n",
        "\n",
        "category_to_id = {\n",
        "    category['name']: category['id'] for category in categories_for_pp_project\n",
        "}\n",
        "\n",
        "id_to_category = {\n",
        "    id: name for id, name in category_to_id.items()\n",
        "}\n",
        "id_to_category"
      ],
      "metadata": {
        "id": "TiQW4RQqjXQj"
      },
      "execution_count": null,
      "outputs": []
    }
  ]
}